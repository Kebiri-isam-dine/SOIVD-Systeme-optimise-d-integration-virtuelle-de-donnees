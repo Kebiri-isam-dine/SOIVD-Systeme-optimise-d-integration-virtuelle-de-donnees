{
 "cells": [
  {
   "cell_type": "code",
   "execution_count": 1,
   "id": "8dba5105",
   "metadata": {},
   "outputs": [],
   "source": [
    "import json\n",
    "import requests as rq\n",
    "from bs4 import BeautifulSoup as bs\n",
    "import pandas as pd\n",
    "from pandasql import sqldf\n",
    "from termcolor import colored"
   ]
  },
  {
   "cell_type": "code",
   "execution_count": 3,
   "id": "63891bc9",
   "metadata": {},
   "outputs": [
    {
     "name": "stdout",
     "output_type": "stream",
     "text": [
      "\n",
      "Examples of queries to the Energy API 1:\n",
      "Q1:\n",
      "    select : *\n",
      "Q2:\n",
      "    select : *\n",
      "    where  : region='Normandie'\n",
      "Q3:\n",
      "    select : region,date,consommation_brute_electricite_rte\n",
      "    where  : region='Nouvelle-Aquitaine' and date='2022-03-27'\n",
      "\n",
      "\n",
      "\n",
      "Examples of queries to the Energy API 2:\n",
      "Q1:\n",
      "    select : *\n",
      "Q2:\n",
      "    select : *\n",
      "    where  : region='Bretagne'\n",
      "Q3:\n",
      "    select : code, region, energie_injectee\n",
      "    where  : code=44 and horodate='2019-12-31T23:00:00+00:00'\n",
      "\n",
      "\n",
      "\n",
      "Possibles columns in df1: [code_insee_region, date_heure, date, heure, region, consommation_brute_electricite_rte,consommation_brute_totale,consommation_brute_gaz_totale]\n",
      "Possibles columns in df2: [horodate, code, region, energie_injectee,nb_points_injection]\n"
     ]
    }
   ],
   "source": [
    "print(colored(\"\"\"\n",
    "Examples of queries to the Energy API 1:\n",
    "Q1:\n",
    "    select : *\n",
    "Q2:\n",
    "    select : *\n",
    "    where  : region='Normandie'\n",
    "Q3:\n",
    "    select : region,date,consommation_brute_electricite_rte\n",
    "    where  : region='Nouvelle-Aquitaine' and date='2022-03-27'\n",
    "\\n\"\"\", 'green'))\n",
    "\n",
    "print(colored(\"\"\"\n",
    "Examples of queries to the Energy API 2:\n",
    "Q1:\n",
    "    select : *\n",
    "Q2:\n",
    "    select : *\n",
    "    where  : region='Bretagne'\n",
    "Q3:\n",
    "    select : code, region, energie_injectee\n",
    "    where  : code=44 and horodate='2019-12-31T23:00:00+00:00'\n",
    "\\n\"\"\", 'green'))\n",
    "\n",
    "print(colored(\"\"\"\n",
    "Possibles columns in df1: [code_insee_region, date_heure, date, heure, region, consommation_brute_electricite_rte,consommation_brute_totale,consommation_brute_gaz_totale]\"\"\"\n",
    "    , 'blue'))\n",
    "print(colored(\"\"\"Possibles columns in df2: [horodate, code, region, energie_injectee,nb_points_injection]\"\"\"\n",
    "    , 'blue'))"
   ]
  },
  {
   "cell_type": "code",
   "execution_count": 4,
   "id": "1b7fc366",
   "metadata": {},
   "outputs": [],
   "source": [
    "def get_data_from_energy(list_of_tables,url):\n",
    "    #list_of_tables : list of columns\n",
    "    lista=list_of_tables\n",
    "    response= rq.get(url)\n",
    "    Repense = response.content\n",
    "    parse_json = json.loads(Repense)\n",
    "    n=parse_json['records'].__len__()\n",
    "    \n",
    "    list_data=[x for x in parse_json['records']]\n",
    "    list_dic,df={},{}\n",
    "    for i in range(n):\n",
    "        list_dic[i]={key: list_data[i][\"fields\"][key] for key in lista}\n",
    "    data=pd.DataFrame.from_dict(list_dic[0], orient='index').T\n",
    "    for i in range(1,n):\n",
    "        df[i]=pd.DataFrame.from_dict(list_dic[i], orient='index').T\n",
    "        data=pd.concat([data,df[i]], axis=0)\n",
    "    return data"
   ]
  },
  {
   "cell_type": "code",
   "execution_count": 6,
   "id": "67f35559",
   "metadata": {},
   "outputs": [],
   "source": [
    "list_api_1=['code_insee_region','date_heure', 'date', 'heure',  'region', 'consommation_brute_electricite_rte', 'consommation_brute_totale', 'consommation_brute_gaz_totale']\n",
    "url1='https://odre.opendatasoft.com/api/records/1.0/search/?dataset=consommation-quotidienne-brute-regionale&q=&sort=-consommation_brute_gaz_grtgaz&facet=date_heure&facet=code_insee_region&facet=region'\n",
    "\n",
    "list_api_2=['horodate','code','region','energie_injectee', 'nb_points_injection' ]\n",
    "url2=\"\"\"https://opendata.agenceore.fr/api/records/1.0/search/?dataset=production-demi-horaire-agregee-par-region&q=&sort=-horodate&facet=horodate&facet=region&facet=grd\"\"\" \n"
   ]
  },
  {
   "cell_type": "code",
   "execution_count": 7,
   "id": "c3b3961c",
   "metadata": {},
   "outputs": [
    {
     "data": {
      "text/html": [
       "<div>\n",
       "<style scoped>\n",
       "    .dataframe tbody tr th:only-of-type {\n",
       "        vertical-align: middle;\n",
       "    }\n",
       "\n",
       "    .dataframe tbody tr th {\n",
       "        vertical-align: top;\n",
       "    }\n",
       "\n",
       "    .dataframe thead th {\n",
       "        text-align: right;\n",
       "    }\n",
       "</style>\n",
       "<table border=\"1\" class=\"dataframe\">\n",
       "  <thead>\n",
       "    <tr style=\"text-align: right;\">\n",
       "      <th></th>\n",
       "      <th>code_insee_region</th>\n",
       "      <th>date_heure</th>\n",
       "      <th>date</th>\n",
       "      <th>heure</th>\n",
       "      <th>region</th>\n",
       "      <th>consommation_brute_electricite_rte</th>\n",
       "      <th>consommation_brute_totale</th>\n",
       "      <th>consommation_brute_gaz_totale</th>\n",
       "    </tr>\n",
       "  </thead>\n",
       "  <tbody>\n",
       "    <tr>\n",
       "      <th>0</th>\n",
       "      <td>28</td>\n",
       "      <td>2022-03-27T01:00:00+00:00</td>\n",
       "      <td>2022-03-27</td>\n",
       "      <td>02:00</td>\n",
       "      <td>Normandie</td>\n",
       "      <td>1811</td>\n",
       "      <td>1811</td>\n",
       "      <td>0</td>\n",
       "    </tr>\n",
       "    <tr>\n",
       "      <th>0</th>\n",
       "      <td>75</td>\n",
       "      <td>2022-03-27T01:00:00+00:00</td>\n",
       "      <td>2022-03-27</td>\n",
       "      <td>02:00</td>\n",
       "      <td>Nouvelle-Aquitaine</td>\n",
       "      <td>4963</td>\n",
       "      <td>5052</td>\n",
       "      <td>89</td>\n",
       "    </tr>\n",
       "    <tr>\n",
       "      <th>0</th>\n",
       "      <td>75</td>\n",
       "      <td>2021-03-27T01:00:00+00:00</td>\n",
       "      <td>2021-03-27</td>\n",
       "      <td>02:00</td>\n",
       "      <td>Nouvelle-Aquitaine</td>\n",
       "      <td>4836</td>\n",
       "      <td>6455</td>\n",
       "      <td>1619</td>\n",
       "    </tr>\n",
       "    <tr>\n",
       "      <th>0</th>\n",
       "      <td>52</td>\n",
       "      <td>2022-03-27T01:00:00+00:00</td>\n",
       "      <td>2022-03-27</td>\n",
       "      <td>02:00</td>\n",
       "      <td>Pays de la Loire</td>\n",
       "      <td>2826</td>\n",
       "      <td>2826</td>\n",
       "      <td>0</td>\n",
       "    </tr>\n",
       "    <tr>\n",
       "      <th>0</th>\n",
       "      <td>84</td>\n",
       "      <td>2022-03-27T01:00:00+00:00</td>\n",
       "      <td>2022-03-27</td>\n",
       "      <td>02:00</td>\n",
       "      <td>Auvergne-Rhône-Alpes</td>\n",
       "      <td>4319</td>\n",
       "      <td>4320</td>\n",
       "      <td>1</td>\n",
       "    </tr>\n",
       "  </tbody>\n",
       "</table>\n",
       "</div>"
      ],
      "text/plain": [
       "  code_insee_region                 date_heure        date  heure  \\\n",
       "0                28  2022-03-27T01:00:00+00:00  2022-03-27  02:00   \n",
       "0                75  2022-03-27T01:00:00+00:00  2022-03-27  02:00   \n",
       "0                75  2021-03-27T01:00:00+00:00  2021-03-27  02:00   \n",
       "0                52  2022-03-27T01:00:00+00:00  2022-03-27  02:00   \n",
       "0                84  2022-03-27T01:00:00+00:00  2022-03-27  02:00   \n",
       "\n",
       "                 region consommation_brute_electricite_rte  \\\n",
       "0             Normandie                               1811   \n",
       "0    Nouvelle-Aquitaine                               4963   \n",
       "0    Nouvelle-Aquitaine                               4836   \n",
       "0      Pays de la Loire                               2826   \n",
       "0  Auvergne-Rhône-Alpes                               4319   \n",
       "\n",
       "  consommation_brute_totale consommation_brute_gaz_totale  \n",
       "0                      1811                             0  \n",
       "0                      5052                            89  \n",
       "0                      6455                          1619  \n",
       "0                      2826                             0  \n",
       "0                      4320                             1  "
      ]
     },
     "execution_count": 7,
     "metadata": {},
     "output_type": "execute_result"
    }
   ],
   "source": [
    "df1=get_data_from_energy(list_api_1,url1)\n",
    "df1.head(5)"
   ]
  },
  {
   "cell_type": "code",
   "execution_count": 8,
   "id": "e393a43b",
   "metadata": {},
   "outputs": [
    {
     "data": {
      "text/html": [
       "<div>\n",
       "<style scoped>\n",
       "    .dataframe tbody tr th:only-of-type {\n",
       "        vertical-align: middle;\n",
       "    }\n",
       "\n",
       "    .dataframe tbody tr th {\n",
       "        vertical-align: top;\n",
       "    }\n",
       "\n",
       "    .dataframe thead th {\n",
       "        text-align: right;\n",
       "    }\n",
       "</style>\n",
       "<table border=\"1\" class=\"dataframe\">\n",
       "  <thead>\n",
       "    <tr style=\"text-align: right;\">\n",
       "      <th></th>\n",
       "      <th>horodate</th>\n",
       "      <th>code</th>\n",
       "      <th>region</th>\n",
       "      <th>energie_injectee</th>\n",
       "      <th>nb_points_injection</th>\n",
       "    </tr>\n",
       "  </thead>\n",
       "  <tbody>\n",
       "    <tr>\n",
       "      <th>0</th>\n",
       "      <td>2019-12-31T23:00:00+00:00</td>\n",
       "      <td>28</td>\n",
       "      <td>Normandie</td>\n",
       "      <td>132332768</td>\n",
       "      <td>16041</td>\n",
       "    </tr>\n",
       "    <tr>\n",
       "      <th>0</th>\n",
       "      <td>2019-12-31T23:00:00+00:00</td>\n",
       "      <td>11</td>\n",
       "      <td>Île-de-France</td>\n",
       "      <td>207136975</td>\n",
       "      <td>16492</td>\n",
       "    </tr>\n",
       "    <tr>\n",
       "      <th>0</th>\n",
       "      <td>2019-12-31T23:00:00+00:00</td>\n",
       "      <td>44</td>\n",
       "      <td>Grand-Est</td>\n",
       "      <td>27279986</td>\n",
       "      <td>1181</td>\n",
       "    </tr>\n",
       "    <tr>\n",
       "      <th>0</th>\n",
       "      <td>2019-12-31T23:00:00+00:00</td>\n",
       "      <td>84</td>\n",
       "      <td>Auvergne-Rhône-Alpes</td>\n",
       "      <td>267037959</td>\n",
       "      <td>73375</td>\n",
       "    </tr>\n",
       "    <tr>\n",
       "      <th>0</th>\n",
       "      <td>2019-12-31T23:00:00+00:00</td>\n",
       "      <td>53</td>\n",
       "      <td>Bretagne</td>\n",
       "      <td>208339232</td>\n",
       "      <td>22220</td>\n",
       "    </tr>\n",
       "  </tbody>\n",
       "</table>\n",
       "</div>"
      ],
      "text/plain": [
       "                    horodate code                region energie_injectee  \\\n",
       "0  2019-12-31T23:00:00+00:00   28             Normandie        132332768   \n",
       "0  2019-12-31T23:00:00+00:00   11         Île-de-France        207136975   \n",
       "0  2019-12-31T23:00:00+00:00   44             Grand-Est         27279986   \n",
       "0  2019-12-31T23:00:00+00:00   84  Auvergne-Rhône-Alpes        267037959   \n",
       "0  2019-12-31T23:00:00+00:00   53              Bretagne        208339232   \n",
       "\n",
       "  nb_points_injection  \n",
       "0               16041  \n",
       "0               16492  \n",
       "0                1181  \n",
       "0               73375  \n",
       "0               22220  "
      ]
     },
     "execution_count": 8,
     "metadata": {},
     "output_type": "execute_result"
    }
   ],
   "source": [
    "df2=get_data_from_energy(list_api_2,url2)\n",
    "df2.head(5)"
   ]
  },
  {
   "cell_type": "markdown",
   "id": "cf69426d",
   "metadata": {},
   "source": [
    "**Imagine we have this Global query and we want to send each column to its corresponding API that we have to extract the column name that exist in each API**\n"
   ]
  },
  {
   "cell_type": "code",
   "execution_count": 17,
   "id": "2cdc8eb9",
   "metadata": {},
   "outputs": [
    {
     "name": "stdout",
     "output_type": "stream",
     "text": [
      " \n",
      "\n",
      "SELECT df1.region,df2.region, df1.consommation_brute_electricite_rte, df2.energie_injectee\n",
      "FROM df1\n",
      "INNER JOIN df2 ON df1.region = df2.region\n",
      "WHERE df2.region='Pays de la Loire'\n",
      "\n",
      "\n"
     ]
    },
    {
     "data": {
      "text/html": [
       "<div>\n",
       "<style scoped>\n",
       "    .dataframe tbody tr th:only-of-type {\n",
       "        vertical-align: middle;\n",
       "    }\n",
       "\n",
       "    .dataframe tbody tr th {\n",
       "        vertical-align: top;\n",
       "    }\n",
       "\n",
       "    .dataframe thead th {\n",
       "        text-align: right;\n",
       "    }\n",
       "</style>\n",
       "<table border=\"1\" class=\"dataframe\">\n",
       "  <thead>\n",
       "    <tr style=\"text-align: right;\">\n",
       "      <th></th>\n",
       "      <th>consommation_brute_electricite_rte</th>\n",
       "      <th>energie_injectee</th>\n",
       "    </tr>\n",
       "  </thead>\n",
       "  <tbody>\n",
       "    <tr>\n",
       "      <th>0</th>\n",
       "      <td>2826</td>\n",
       "      <td>173684938</td>\n",
       "    </tr>\n",
       "    <tr>\n",
       "      <th>1</th>\n",
       "      <td>3318</td>\n",
       "      <td>173684938</td>\n",
       "    </tr>\n",
       "    <tr>\n",
       "      <th>2</th>\n",
       "      <td>3099</td>\n",
       "      <td>173684938</td>\n",
       "    </tr>\n",
       "  </tbody>\n",
       "</table>\n",
       "</div>"
      ],
      "text/plain": [
       "   consommation_brute_electricite_rte  energie_injectee\n",
       "0                                2826         173684938\n",
       "1                                3318         173684938\n",
       "2                                3099         173684938"
      ]
     },
     "execution_count": 17,
     "metadata": {},
     "output_type": "execute_result"
    }
   ],
   "source": [
    "Query=\"\"\" \n",
    "\n",
    "SELECT df1.region,df2.region, df1.consommation_brute_electricite_rte, df2.energie_injectee\n",
    "FROM df1\n",
    "INNER JOIN df2 ON df1.region = df2.region\n",
    "WHERE df2.region='Pays de la Loire'\n",
    "\n",
    "\"\"\"\n",
    "\n",
    "print(Query)\n",
    "data=sqldf(Query)\n",
    "data.drop('region', axis=1, inplace=True)\n",
    "data"
   ]
  },
  {
   "cell_type": "code",
   "execution_count": 18,
   "id": "8fd7ae9f",
   "metadata": {},
   "outputs": [
    {
     "data": {
      "text/html": [
       "<div>\n",
       "<style scoped>\n",
       "    .dataframe tbody tr th:only-of-type {\n",
       "        vertical-align: middle;\n",
       "    }\n",
       "\n",
       "    .dataframe tbody tr th {\n",
       "        vertical-align: top;\n",
       "    }\n",
       "\n",
       "    .dataframe thead th {\n",
       "        text-align: right;\n",
       "    }\n",
       "</style>\n",
       "<table border=\"1\" class=\"dataframe\">\n",
       "  <thead>\n",
       "    <tr style=\"text-align: right;\">\n",
       "      <th></th>\n",
       "      <th>energie_injectee</th>\n",
       "      <th>consommation_brute_electricite_rte</th>\n",
       "    </tr>\n",
       "  </thead>\n",
       "  <tbody>\n",
       "    <tr>\n",
       "      <th>0</th>\n",
       "      <td>173684938</td>\n",
       "      <td>[2826, 3318, 3099]</td>\n",
       "    </tr>\n",
       "  </tbody>\n",
       "</table>\n",
       "</div>"
      ],
      "text/plain": [
       "   energie_injectee consommation_brute_electricite_rte\n",
       "0         173684938                 [2826, 3318, 3099]"
      ]
     },
     "execution_count": 18,
     "metadata": {},
     "output_type": "execute_result"
    }
   ],
   "source": [
    "data = (data.groupby(['energie_injectee'])\n",
    "      .agg({'consommation_brute_electricite_rte': lambda x: x.tolist()})\n",
    "      .reset_index())\n",
    "data"
   ]
  },
  {
   "cell_type": "code",
   "execution_count": 19,
   "id": "694072ac",
   "metadata": {},
   "outputs": [
    {
     "name": "stdout",
     "output_type": "stream",
     "text": [
      "['df1.region', 'df2.region', ' df1.consommation_brute_electricite_rte', ' df2.energie_injectee']\n"
     ]
    }
   ],
   "source": [
    "start = 'SELECT'\n",
    "end = 'FROM'\n",
    "tables_in_query=Query[Query.find(start)+len(start):Query.rfind(end)].strip().split(',')\n",
    "\n",
    "print(tables_in_query)\n"
   ]
  },
  {
   "cell_type": "code",
   "execution_count": 20,
   "id": "3544c1f4",
   "metadata": {},
   "outputs": [],
   "source": [
    "list_api1 = []\n",
    "list_api2 = []\n",
    "list_api3 = []\n",
    "\n",
    "for word in tables_in_query:\n",
    "    if word.startswith(\"df1\") or word.startswith(\" df1\"):\n",
    "        list_api1.append(word.split('.')[1])\n",
    "    elif word.startswith(\"df2\") or word.startswith(\" df2\"):\n",
    "        list_api2.append(word.split('.')[1])\n",
    "    else:\n",
    "        list_api3.append(word.split('.')[1])"
   ]
  },
  {
   "cell_type": "code",
   "execution_count": 21,
   "id": "7e16331b",
   "metadata": {},
   "outputs": [
    {
     "name": "stdout",
     "output_type": "stream",
     "text": [
      "['region', 'consommation_brute_electricite_rte']\n",
      "--------\n",
      "['region', 'energie_injectee']\n",
      "--------\n",
      "[]\n"
     ]
    }
   ],
   "source": [
    "print(list_api1)\n",
    "print('--------')\n",
    "print(list_api2)\n",
    "print('--------')\n",
    "print(list_api3)"
   ]
  },
  {
   "cell_type": "code",
   "execution_count": 22,
   "id": "ccb2042d",
   "metadata": {},
   "outputs": [],
   "source": [
    "df1=get_data_from_energy(list_api1,url1)\n",
    "df2=get_data_from_energy(list_api2,url2)"
   ]
  },
  {
   "cell_type": "code",
   "execution_count": 23,
   "id": "d956af8d",
   "metadata": {},
   "outputs": [
    {
     "data": {
      "text/html": [
       "<div>\n",
       "<style scoped>\n",
       "    .dataframe tbody tr th:only-of-type {\n",
       "        vertical-align: middle;\n",
       "    }\n",
       "\n",
       "    .dataframe tbody tr th {\n",
       "        vertical-align: top;\n",
       "    }\n",
       "\n",
       "    .dataframe thead th {\n",
       "        text-align: right;\n",
       "    }\n",
       "</style>\n",
       "<table border=\"1\" class=\"dataframe\">\n",
       "  <thead>\n",
       "    <tr style=\"text-align: right;\">\n",
       "      <th></th>\n",
       "      <th>region</th>\n",
       "      <th>energie_injectee</th>\n",
       "      <th>consommation_brute_electricite_rte</th>\n",
       "    </tr>\n",
       "  </thead>\n",
       "  <tbody>\n",
       "    <tr>\n",
       "      <th>0</th>\n",
       "      <td>Pays de la Loire</td>\n",
       "      <td>173684938</td>\n",
       "      <td>2826</td>\n",
       "    </tr>\n",
       "    <tr>\n",
       "      <th>0</th>\n",
       "      <td>Pays de la Loire</td>\n",
       "      <td>173684938</td>\n",
       "      <td>3318</td>\n",
       "    </tr>\n",
       "    <tr>\n",
       "      <th>0</th>\n",
       "      <td>Pays de la Loire</td>\n",
       "      <td>173684938</td>\n",
       "      <td>3099</td>\n",
       "    </tr>\n",
       "  </tbody>\n",
       "</table>\n",
       "</div>"
      ],
      "text/plain": [
       "             region energie_injectee consommation_brute_electricite_rte\n",
       "0  Pays de la Loire        173684938                               2826\n",
       "0  Pays de la Loire        173684938                               3318\n",
       "0  Pays de la Loire        173684938                               3099"
      ]
     },
     "execution_count": 23,
     "metadata": {},
     "output_type": "execute_result"
    }
   ],
   "source": [
    "def get_response(df_1=df1,df_2=df2,df_3=df2,region='Pays de la Loire'):\n",
    "#     join, left, right, inner, outer\n",
    "#     union, concatenate ...\n",
    "    matching_cols='region'\n",
    "#     Final_Data=df_3.join((df_2.join(df_1.set_index(matching_cols),\n",
    "#                        on=matching_cols)).set_index(matching_cols),\n",
    "#                        on=matching_cols)\n",
    "    Final_Data=(df_2.join(df_1.set_index(matching_cols), on=matching_cols))\n",
    "\n",
    "    return Final_Data[Final_Data['region']==region]\n",
    "df=get_response(df1,df2)\n",
    "df"
   ]
  },
  {
   "cell_type": "code",
   "execution_count": 24,
   "id": "71eb26f7",
   "metadata": {},
   "outputs": [
    {
     "data": {
      "text/html": [
       "<div>\n",
       "<style scoped>\n",
       "    .dataframe tbody tr th:only-of-type {\n",
       "        vertical-align: middle;\n",
       "    }\n",
       "\n",
       "    .dataframe tbody tr th {\n",
       "        vertical-align: top;\n",
       "    }\n",
       "\n",
       "    .dataframe thead th {\n",
       "        text-align: right;\n",
       "    }\n",
       "</style>\n",
       "<table border=\"1\" class=\"dataframe\">\n",
       "  <thead>\n",
       "    <tr style=\"text-align: right;\">\n",
       "      <th></th>\n",
       "      <th>region</th>\n",
       "      <th>energie_injectee</th>\n",
       "      <th>consommation_brute_electricite_rte</th>\n",
       "    </tr>\n",
       "  </thead>\n",
       "  <tbody>\n",
       "    <tr>\n",
       "      <th>0</th>\n",
       "      <td>Pays de la Loire</td>\n",
       "      <td>173684938</td>\n",
       "      <td>[2826, 3318, 3099]</td>\n",
       "    </tr>\n",
       "  </tbody>\n",
       "</table>\n",
       "</div>"
      ],
      "text/plain": [
       "             region  energie_injectee consommation_brute_electricite_rte\n",
       "0  Pays de la Loire         173684938                 [2826, 3318, 3099]"
      ]
     },
     "execution_count": 24,
     "metadata": {},
     "output_type": "execute_result"
    }
   ],
   "source": [
    "df = (df.groupby(['region','energie_injectee'])\n",
    "      .agg({'consommation_brute_electricite_rte': lambda x: x.tolist()})\n",
    "      .reset_index())\n",
    "df"
   ]
  },
  {
   "cell_type": "code",
   "execution_count": null,
   "id": "0ba7405d",
   "metadata": {},
   "outputs": [],
   "source": []
  }
 ],
 "metadata": {
  "kernelspec": {
   "display_name": "Python 3 (ipykernel)",
   "language": "python",
   "name": "python3"
  },
  "language_info": {
   "codemirror_mode": {
    "name": "ipython",
    "version": 3
   },
   "file_extension": ".py",
   "mimetype": "text/x-python",
   "name": "python",
   "nbconvert_exporter": "python",
   "pygments_lexer": "ipython3",
   "version": "3.9.13"
  }
 },
 "nbformat": 4,
 "nbformat_minor": 5
}
